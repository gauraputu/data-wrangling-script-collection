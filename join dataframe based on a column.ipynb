{
 "cells": [
  {
   "cell_type": "code",
   "execution_count": 2,
   "metadata": {},
   "outputs": [],
   "source": [
    "import pandas as pd\n",
    "pd.set_option('display.max_columns', None)\n",
    "pd.set_option('display.max_rows', None)\n",
    "df_1 = pd.read_csv('')\n",
    "df_2 = pd.read_csv('')"
   ]
  },
  {
   "cell_type": "code",
   "execution_count": 26,
   "metadata": {},
   "outputs": [
    {
     "name": "stdout",
     "output_type": "stream",
     "text": [
      "(5374, 62)\n"
     ]
    },
    {
     "data": {
      "text/plain": [
       "Id                 int64\n",
       "Account Number     int64\n",
       "Account Name      object\n",
       "Billing State_    object\n",
       "dtype: object"
      ]
     },
     "execution_count": 26,
     "metadata": {},
     "output_type": "execute_result"
    }
   ],
   "source": [
    "print(df_1.shape)\n",
    "df_1.head()\n",
    "df_1 = df_1[['column A','Column B']]\n",
    "df_1.head()"
   ]
  },
  {
   "cell_type": "code",
   "execution_count": 27,
   "metadata": {},
   "outputs": [
    {
     "name": "stdout",
     "output_type": "stream",
     "text": [
      "(5159, 10)\n"
     ]
    },
    {
     "data": {
      "text/plain": [
       "Agency Name    object\n",
       "Agency ID       int64\n",
       "State          object\n",
       "dtype: object"
      ]
     },
     "execution_count": 27,
     "metadata": {},
     "output_type": "execute_result"
    }
   ],
   "source": [
    "print(df_2.shape)\n",
    "df_2.head()\n",
    "df_2 = df_2[['Column C','Column D']]\n",
    "df_2.head()"
   ]
  },
  {
   "cell_type": "code",
   "execution_count": 38,
   "metadata": {},
   "outputs": [
    {
     "name": "stdout",
     "output_type": "stream",
     "text": [
      "(5163, 7)\n"
     ]
    },
    {
     "data": {
      "text/html": [
       "<div>\n",
       "<style scoped>\n",
       "    .dataframe tbody tr th:only-of-type {\n",
       "        vertical-align: middle;\n",
       "    }\n",
       "\n",
       "    .dataframe tbody tr th {\n",
       "        vertical-align: top;\n",
       "    }\n",
       "\n",
       "    .dataframe thead th {\n",
       "        text-align: right;\n",
       "    }\n",
       "</style>\n",
       "<table border=\"1\" class=\"dataframe\">\n",
       "  <thead>\n",
       "    <tr style=\"text-align: right;\">\n",
       "      <th></th>\n",
       "      <th>Agency Name</th>\n",
       "      <th>Agency ID</th>\n",
       "      <th>State</th>\n",
       "      <th>Id</th>\n",
       "      <th>Account Number</th>\n",
       "      <th>Account Name</th>\n",
       "      <th>Billing State_</th>\n",
       "    </tr>\n",
       "  </thead>\n",
       "  <tbody>\n",
       "    <tr>\n",
       "      <th>0</th>\n",
       "      <td>Itravel - Matt Vitagliano</td>\n",
       "      <td>11004</td>\n",
       "      <td>Tasmania</td>\n",
       "      <td>NaN</td>\n",
       "      <td>&lt;NA&gt;</td>\n",
       "      <td>NaN</td>\n",
       "      <td>NaN</td>\n",
       "    </tr>\n",
       "    <tr>\n",
       "      <th>1</th>\n",
       "      <td>Helloworld Travel Alexander Heights</td>\n",
       "      <td>2971</td>\n",
       "      <td>Western Australia</td>\n",
       "      <td>2.045641e+18</td>\n",
       "      <td>2971</td>\n",
       "      <td>Helloworld Travel Alexander Heights</td>\n",
       "      <td>Western Australia</td>\n",
       "    </tr>\n",
       "    <tr>\n",
       "      <th>2</th>\n",
       "      <td>Edge Connections</td>\n",
       "      <td>2425</td>\n",
       "      <td>Victoria</td>\n",
       "      <td>2.045641e+18</td>\n",
       "      <td>2425</td>\n",
       "      <td>Edge Connections</td>\n",
       "      <td>Victoria</td>\n",
       "    </tr>\n",
       "    <tr>\n",
       "      <th>3</th>\n",
       "      <td>Crystal Lake Travel, Inc.</td>\n",
       "      <td>4581</td>\n",
       "      <td>Illinois</td>\n",
       "      <td>2.045641e+18</td>\n",
       "      <td>4581</td>\n",
       "      <td>Crystal Lake Travel, Inc.</td>\n",
       "      <td>Illinois</td>\n",
       "    </tr>\n",
       "    <tr>\n",
       "      <th>4</th>\n",
       "      <td>America's Vacation Center</td>\n",
       "      <td>10882</td>\n",
       "      <td>NaN</td>\n",
       "      <td>2.045641e+18</td>\n",
       "      <td>10882</td>\n",
       "      <td>America's Vacation Center</td>\n",
       "      <td>NaN</td>\n",
       "    </tr>\n",
       "  </tbody>\n",
       "</table>\n",
       "</div>"
      ],
      "text/plain": [
       "                           Agency Name  Agency ID              State  \\\n",
       "0            Itravel - Matt Vitagliano      11004           Tasmania   \n",
       "1  Helloworld Travel Alexander Heights       2971  Western Australia   \n",
       "2                     Edge Connections       2425           Victoria   \n",
       "3            Crystal Lake Travel, Inc.       4581           Illinois   \n",
       "4            America's Vacation Center      10882                NaN   \n",
       "\n",
       "             Id  Account Number                         Account Name  \\\n",
       "0           NaN            <NA>                                  NaN   \n",
       "1  2.045641e+18            2971  Helloworld Travel Alexander Heights   \n",
       "2  2.045641e+18            2425                     Edge Connections   \n",
       "3  2.045641e+18            4581            Crystal Lake Travel, Inc.   \n",
       "4  2.045641e+18           10882            America's Vacation Center   \n",
       "\n",
       "      Billing State_  \n",
       "0                NaN  \n",
       "1  Western Australia  \n",
       "2           Victoria  \n",
       "3           Illinois  \n",
       "4                NaN  "
      ]
     },
     "execution_count": 38,
     "metadata": {},
     "output_type": "execute_result"
    }
   ],
   "source": [
    "df_joined = pd.merge(\n",
    "    df_1, df_2, left_on=\"Column B\", right_on=\"Column C\", how=\"left\", sort=False\n",
    ")\n",
    "print(df_joined.shape)\n",
    "df_joined.head()"
   ]
  },
  {
   "cell_type": "code",
   "execution_count": 36,
   "metadata": {},
   "outputs": [],
   "source": [
    "df_joined.to_csv('joined.csv', index=False)"
   ]
  }
 ],
 "metadata": {
  "kernelspec": {
   "display_name": "Python 3.8.10 64-bit",
   "language": "python",
   "name": "python3"
  },
  "language_info": {
   "codemirror_mode": {
    "name": "ipython",
    "version": 3
   },
   "file_extension": ".py",
   "mimetype": "text/x-python",
   "name": "python",
   "nbconvert_exporter": "python",
   "pygments_lexer": "ipython3",
   "version": "3.8.10"
  },
  "orig_nbformat": 4,
  "vscode": {
   "interpreter": {
    "hash": "916dbcbb3f70747c44a77c7bcd40155683ae19c65e1c03b4aa3499c5328201f1"
   }
  }
 },
 "nbformat": 4,
 "nbformat_minor": 2
}
