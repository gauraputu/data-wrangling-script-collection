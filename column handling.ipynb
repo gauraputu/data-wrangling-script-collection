{
 "cells": [
  {
   "cell_type": "code",
   "execution_count": null,
   "metadata": {},
   "outputs": [],
   "source": [
    "import pandas as pd\n",
    "pd.set_option('display.max_columns', None)\n",
    "pd.set_option('display.max_rows', None)\n",
    "pd.set_option('display.max_colwidth', None)\n",
    "df_1 = pd.read_csv('')\n",
    "df_2 = pd.read_csv('')"
   ]
  },
  {
   "attachments": {},
   "cell_type": "markdown",
   "metadata": {},
   "source": [
    "## Rename column"
   ]
  },
  {
   "cell_type": "code",
   "execution_count": null,
   "metadata": {},
   "outputs": [],
   "source": [
    "df_1.rename(columns={'Old Column A': 'New Column A'}, inplace=True)"
   ]
  },
  {
   "attachments": {},
   "cell_type": "markdown",
   "metadata": {},
   "source": [
    "## Columns to row with another column as index"
   ]
  },
  {
   "cell_type": "code",
   "execution_count": null,
   "metadata": {},
   "outputs": [],
   "source": [
    "# original dataframe\n",
    "# Column A  Column B Column C\n",
    "#        a         1        2\n",
    "#        b         3        2\n",
    "#        c         4        1\n",
    "#\n",
    "# melted dataframe\n",
    "# Column A  variable    value\n",
    "#        a  Column B        1\n",
    "#        a  Column C        2\n",
    "#        b  Column B        3\n",
    "#        b  Column C        2\n",
    "#        c  Column B        4\n",
    "#        c  Column C        1\n",
    "\n",
    "df_3 = pd.melt(df_1, id_vars=['Column A'], value_vars=['Column B','Column C'])"
   ]
  }
 ],
 "metadata": {
  "kernelspec": {
   "display_name": "Python 3.8.10 64-bit",
   "language": "python",
   "name": "python3"
  },
  "language_info": {
   "name": "python",
   "version": "3.8.10 (default, Jun 22 2022, 20:18:18) \n[GCC 9.4.0]"
  },
  "orig_nbformat": 4,
  "vscode": {
   "interpreter": {
    "hash": "916dbcbb3f70747c44a77c7bcd40155683ae19c65e1c03b4aa3499c5328201f1"
   }
  }
 },
 "nbformat": 4,
 "nbformat_minor": 2
}
