{
 "cells": [
  {
   "cell_type": "code",
   "execution_count": null,
   "metadata": {},
   "outputs": [],
   "source": [
    "import pandas as pd\n",
    "pd.set_option('display.max_columns', None)\n",
    "pd.set_option('display.max_rows', None)\n",
    "pd.set_option('display.max_colwidth', None)\n",
    "df_1 = pd.read_csv('')\n",
    "df_2 = pd.read_csv('')"
   ]
  },
  {
   "attachments": {},
   "cell_type": "markdown",
   "metadata": {},
   "source": [
    "## Rename column"
   ]
  },
  {
   "cell_type": "code",
   "execution_count": null,
   "metadata": {},
   "outputs": [],
   "source": [
    "df_1.rename(columns={'Old Column A': 'New Column A'}, inplace=True)"
   ]
  },
  {
   "attachments": {},
   "cell_type": "markdown",
   "metadata": {},
   "source": [
    "## Columns to row with another column as index"
   ]
  },
  {
   "cell_type": "code",
   "execution_count": null,
   "metadata": {},
   "outputs": [],
   "source": [
    "# original dataframe\n",
    "# Column A  Column B Column C\n",
    "#        a         1        2\n",
    "#        b         3        2\n",
    "#        c         4        1\n",
    "#\n",
    "# melted dataframe\n",
    "# Column A  variable    value\n",
    "#        a  Column B        1\n",
    "#        a  Column C        2\n",
    "#        b  Column B        3\n",
    "#        b  Column C        2\n",
    "#        c  Column B        4\n",
    "#        c  Column C        1\n",
    "\n",
    "df_3 = pd.melt(df_1, id_vars=['Column A'], value_vars=['Column B','Column C'])"
   ]
  },
  {
   "attachments": {},
   "cell_type": "markdown",
   "metadata": {},
   "source": [
    "## Replace value in a column"
   ]
  },
  {
   "cell_type": "code",
   "execution_count": null,
   "metadata": {},
   "outputs": [],
   "source": [
    "# original dataframe\n",
    "#     Column A  Column B\n",
    "#      hello a         1\n",
    "#   hi hello b         3\n",
    "#  cat c hello         4\n",
    "#\n",
    "# replaced value dataframe\n",
    "#     Column A  Column B\n",
    "#         hi a         1\n",
    "#      hi hi b         3\n",
    "#     cat c hi         4\n",
    "\n",
    "df_1['Column A'] = df_1['Column A'].replace('hello', 'hi',regex=True)"
   ]
  },
  {
   "attachments": {},
   "cell_type": "markdown",
   "metadata": {},
   "source": [
    "## create new column with user defined function"
   ]
  },
  {
   "cell_type": "code",
   "execution_count": null,
   "metadata": {},
   "outputs": [],
   "source": [
    "# original dataframe\n",
    "# Column A  Column B Column C\n",
    "#        a         1        2\n",
    "#        b         3        2\n",
    "#        c         4        1\n",
    "#\n",
    "# new dataframe\n",
    "# Column A  Column B Column C  Column D\n",
    "#        a         1        2   nothing\n",
    "#        b         3        2   nothing\n",
    "#        c         4        1   nothing\n",
    "\n",
    "def user_function(row_number):\n",
    "    #define logic here\n",
    "    if row_number['Column A']!=\"Great\":\n",
    "        return \"nothing\" \n",
    "    else:\n",
    "        return \"something\"\n",
    "\n",
    "df_1['Column D'] = df_1.apply(user_function,axis=1)"
   ]
  }
 ],
 "metadata": {
  "kernelspec": {
   "display_name": "Python 3.8.10 64-bit",
   "language": "python",
   "name": "python3"
  },
  "language_info": {
   "name": "python",
   "version": "3.8.10 (default, Jun 22 2022, 20:18:18) \n[GCC 9.4.0]"
  },
  "orig_nbformat": 4,
  "vscode": {
   "interpreter": {
    "hash": "916dbcbb3f70747c44a77c7bcd40155683ae19c65e1c03b4aa3499c5328201f1"
   }
  }
 },
 "nbformat": 4,
 "nbformat_minor": 2
}
